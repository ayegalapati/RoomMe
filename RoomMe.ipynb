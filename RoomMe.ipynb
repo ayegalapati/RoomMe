{
  "nbformat": 4,
  "nbformat_minor": 0,
  "metadata": {
    "colab": {
      "provenance": [],
      "include_colab_link": true
    },
    "kernelspec": {
      "name": "python3",
      "display_name": "Python 3"
    },
    "language_info": {
      "name": "python"
    }
  },
  "cells": [
    {
      "cell_type": "markdown",
      "metadata": {
        "id": "view-in-github",
        "colab_type": "text"
      },
      "source": [
        "<a href=\"https://colab.research.google.com/github/ayegalapati/RoomMe/blob/main/RoomMe.ipynb\" target=\"_parent\"><img src=\"https://colab.research.google.com/assets/colab-badge.svg\" alt=\"Open In Colab\"/></a>"
      ]
    },
    {
      "cell_type": "code",
      "source": [
        "!pip install flask_sqlalchemy firebase-admin scikit-learn Flask flask_cors"
      ],
      "metadata": {
        "colab": {
          "base_uri": "https://localhost:8080/"
        },
        "id": "oCFkq4XK_0VP",
        "outputId": "5ae5df9c-3d95-4bab-86c7-965e86a976d9"
      },
      "execution_count": 1,
      "outputs": [
        {
          "output_type": "stream",
          "name": "stdout",
          "text": [
            "Requirement already satisfied: flask_sqlalchemy in /usr/local/lib/python3.10/dist-packages (3.1.1)\n",
            "Requirement already satisfied: firebase-admin in /usr/local/lib/python3.10/dist-packages (6.6.0)\n",
            "Requirement already satisfied: scikit-learn in /usr/local/lib/python3.10/dist-packages (1.6.0)\n",
            "Requirement already satisfied: Flask in /usr/local/lib/python3.10/dist-packages (3.1.0)\n",
            "Requirement already satisfied: flask_cors in /usr/local/lib/python3.10/dist-packages (5.0.0)\n",
            "Requirement already satisfied: sqlalchemy>=2.0.16 in /usr/local/lib/python3.10/dist-packages (from flask_sqlalchemy) (2.0.36)\n",
            "Requirement already satisfied: cachecontrol>=0.12.14 in /usr/local/lib/python3.10/dist-packages (from firebase-admin) (0.14.1)\n",
            "Requirement already satisfied: google-api-python-client>=1.7.8 in /usr/local/lib/python3.10/dist-packages (from firebase-admin) (2.155.0)\n",
            "Requirement already satisfied: google-cloud-storage>=1.37.1 in /usr/local/lib/python3.10/dist-packages (from firebase-admin) (2.19.0)\n",
            "Requirement already satisfied: pyjwt>=2.5.0 in /usr/local/lib/python3.10/dist-packages (from pyjwt[crypto]>=2.5.0->firebase-admin) (2.10.1)\n",
            "Requirement already satisfied: google-api-core<3.0.0dev,>=1.22.1 in /usr/local/lib/python3.10/dist-packages (from google-api-core[grpc]<3.0.0dev,>=1.22.1; platform_python_implementation != \"PyPy\"->firebase-admin) (2.19.2)\n",
            "Requirement already satisfied: google-cloud-firestore>=2.19.0 in /usr/local/lib/python3.10/dist-packages (from firebase-admin) (2.19.0)\n",
            "Requirement already satisfied: numpy>=1.19.5 in /usr/local/lib/python3.10/dist-packages (from scikit-learn) (1.26.4)\n",
            "Requirement already satisfied: scipy>=1.6.0 in /usr/local/lib/python3.10/dist-packages (from scikit-learn) (1.13.1)\n",
            "Requirement already satisfied: joblib>=1.2.0 in /usr/local/lib/python3.10/dist-packages (from scikit-learn) (1.4.2)\n",
            "Requirement already satisfied: threadpoolctl>=3.1.0 in /usr/local/lib/python3.10/dist-packages (from scikit-learn) (3.5.0)\n",
            "Requirement already satisfied: Werkzeug>=3.1 in /usr/local/lib/python3.10/dist-packages (from Flask) (3.1.3)\n",
            "Requirement already satisfied: Jinja2>=3.1.2 in /usr/local/lib/python3.10/dist-packages (from Flask) (3.1.4)\n",
            "Requirement already satisfied: itsdangerous>=2.2 in /usr/local/lib/python3.10/dist-packages (from Flask) (2.2.0)\n",
            "Requirement already satisfied: click>=8.1.3 in /usr/local/lib/python3.10/dist-packages (from Flask) (8.1.7)\n",
            "Requirement already satisfied: blinker>=1.9 in /usr/local/lib/python3.10/dist-packages (from Flask) (1.9.0)\n",
            "Requirement already satisfied: requests>=2.16.0 in /usr/local/lib/python3.10/dist-packages (from cachecontrol>=0.12.14->firebase-admin) (2.32.3)\n",
            "Requirement already satisfied: msgpack<2.0.0,>=0.5.2 in /usr/local/lib/python3.10/dist-packages (from cachecontrol>=0.12.14->firebase-admin) (1.1.0)\n",
            "Requirement already satisfied: googleapis-common-protos<2.0.dev0,>=1.56.2 in /usr/local/lib/python3.10/dist-packages (from google-api-core<3.0.0dev,>=1.22.1->google-api-core[grpc]<3.0.0dev,>=1.22.1; platform_python_implementation != \"PyPy\"->firebase-admin) (1.66.0)\n",
            "Requirement already satisfied: protobuf!=3.20.0,!=3.20.1,!=4.21.0,!=4.21.1,!=4.21.2,!=4.21.3,!=4.21.4,!=4.21.5,<6.0.0.dev0,>=3.19.5 in /usr/local/lib/python3.10/dist-packages (from google-api-core<3.0.0dev,>=1.22.1->google-api-core[grpc]<3.0.0dev,>=1.22.1; platform_python_implementation != \"PyPy\"->firebase-admin) (4.25.5)\n",
            "Requirement already satisfied: proto-plus<2.0.0dev,>=1.22.3 in /usr/local/lib/python3.10/dist-packages (from google-api-core<3.0.0dev,>=1.22.1->google-api-core[grpc]<3.0.0dev,>=1.22.1; platform_python_implementation != \"PyPy\"->firebase-admin) (1.25.0)\n",
            "Requirement already satisfied: google-auth<3.0.dev0,>=2.14.1 in /usr/local/lib/python3.10/dist-packages (from google-api-core<3.0.0dev,>=1.22.1->google-api-core[grpc]<3.0.0dev,>=1.22.1; platform_python_implementation != \"PyPy\"->firebase-admin) (2.27.0)\n",
            "Requirement already satisfied: grpcio<2.0dev,>=1.33.2 in /usr/local/lib/python3.10/dist-packages (from google-api-core[grpc]<3.0.0dev,>=1.22.1; platform_python_implementation != \"PyPy\"->firebase-admin) (1.68.1)\n",
            "Requirement already satisfied: grpcio-status<2.0.dev0,>=1.33.2 in /usr/local/lib/python3.10/dist-packages (from google-api-core[grpc]<3.0.0dev,>=1.22.1; platform_python_implementation != \"PyPy\"->firebase-admin) (1.62.3)\n",
            "Requirement already satisfied: httplib2<1.dev0,>=0.19.0 in /usr/local/lib/python3.10/dist-packages (from google-api-python-client>=1.7.8->firebase-admin) (0.22.0)\n",
            "Requirement already satisfied: google-auth-httplib2<1.0.0,>=0.2.0 in /usr/local/lib/python3.10/dist-packages (from google-api-python-client>=1.7.8->firebase-admin) (0.2.0)\n",
            "Requirement already satisfied: uritemplate<5,>=3.0.1 in /usr/local/lib/python3.10/dist-packages (from google-api-python-client>=1.7.8->firebase-admin) (4.1.1)\n",
            "Requirement already satisfied: google-cloud-core<3.0.0dev,>=1.4.1 in /usr/local/lib/python3.10/dist-packages (from google-cloud-firestore>=2.19.0->firebase-admin) (2.4.1)\n",
            "Requirement already satisfied: google-resumable-media>=2.7.2 in /usr/local/lib/python3.10/dist-packages (from google-cloud-storage>=1.37.1->firebase-admin) (2.7.2)\n",
            "Requirement already satisfied: google-crc32c<2.0dev,>=1.0 in /usr/local/lib/python3.10/dist-packages (from google-cloud-storage>=1.37.1->firebase-admin) (1.6.0)\n",
            "Requirement already satisfied: MarkupSafe>=2.0 in /usr/local/lib/python3.10/dist-packages (from Jinja2>=3.1.2->Flask) (3.0.2)\n",
            "Requirement already satisfied: cryptography>=3.4.0 in /usr/local/lib/python3.10/dist-packages (from pyjwt[crypto]>=2.5.0->firebase-admin) (43.0.3)\n",
            "Requirement already satisfied: typing-extensions>=4.6.0 in /usr/local/lib/python3.10/dist-packages (from sqlalchemy>=2.0.16->flask_sqlalchemy) (4.12.2)\n",
            "Requirement already satisfied: greenlet!=0.4.17 in /usr/local/lib/python3.10/dist-packages (from sqlalchemy>=2.0.16->flask_sqlalchemy) (3.1.1)\n",
            "Requirement already satisfied: cffi>=1.12 in /usr/local/lib/python3.10/dist-packages (from cryptography>=3.4.0->pyjwt[crypto]>=2.5.0->firebase-admin) (1.17.1)\n",
            "Requirement already satisfied: cachetools<6.0,>=2.0.0 in /usr/local/lib/python3.10/dist-packages (from google-auth<3.0.dev0,>=2.14.1->google-api-core<3.0.0dev,>=1.22.1->google-api-core[grpc]<3.0.0dev,>=1.22.1; platform_python_implementation != \"PyPy\"->firebase-admin) (5.5.0)\n",
            "Requirement already satisfied: pyasn1-modules>=0.2.1 in /usr/local/lib/python3.10/dist-packages (from google-auth<3.0.dev0,>=2.14.1->google-api-core<3.0.0dev,>=1.22.1->google-api-core[grpc]<3.0.0dev,>=1.22.1; platform_python_implementation != \"PyPy\"->firebase-admin) (0.4.1)\n",
            "Requirement already satisfied: rsa<5,>=3.1.4 in /usr/local/lib/python3.10/dist-packages (from google-auth<3.0.dev0,>=2.14.1->google-api-core<3.0.0dev,>=1.22.1->google-api-core[grpc]<3.0.0dev,>=1.22.1; platform_python_implementation != \"PyPy\"->firebase-admin) (4.9)\n",
            "Requirement already satisfied: pyparsing!=3.0.0,!=3.0.1,!=3.0.2,!=3.0.3,<4,>=2.4.2 in /usr/local/lib/python3.10/dist-packages (from httplib2<1.dev0,>=0.19.0->google-api-python-client>=1.7.8->firebase-admin) (3.2.0)\n",
            "Requirement already satisfied: charset-normalizer<4,>=2 in /usr/local/lib/python3.10/dist-packages (from requests>=2.16.0->cachecontrol>=0.12.14->firebase-admin) (3.4.0)\n",
            "Requirement already satisfied: idna<4,>=2.5 in /usr/local/lib/python3.10/dist-packages (from requests>=2.16.0->cachecontrol>=0.12.14->firebase-admin) (3.10)\n",
            "Requirement already satisfied: urllib3<3,>=1.21.1 in /usr/local/lib/python3.10/dist-packages (from requests>=2.16.0->cachecontrol>=0.12.14->firebase-admin) (2.2.3)\n",
            "Requirement already satisfied: certifi>=2017.4.17 in /usr/local/lib/python3.10/dist-packages (from requests>=2.16.0->cachecontrol>=0.12.14->firebase-admin) (2024.12.14)\n",
            "Requirement already satisfied: pycparser in /usr/local/lib/python3.10/dist-packages (from cffi>=1.12->cryptography>=3.4.0->pyjwt[crypto]>=2.5.0->firebase-admin) (2.22)\n",
            "Requirement already satisfied: pyasn1<0.7.0,>=0.4.6 in /usr/local/lib/python3.10/dist-packages (from pyasn1-modules>=0.2.1->google-auth<3.0.dev0,>=2.14.1->google-api-core<3.0.0dev,>=1.22.1->google-api-core[grpc]<3.0.0dev,>=1.22.1; platform_python_implementation != \"PyPy\"->firebase-admin) (0.6.1)\n"
          ]
        }
      ]
    },
    {
      "cell_type": "code",
      "source": [
        "# Import required libraries\n",
        "from flask import Flask, request, jsonify\n",
        "from flask_sqlalchemy import SQLAlchemy\n",
        "from firebase_admin import auth, initialize_app, credentials\n",
        "from flask_cors import CORS\n",
        "from sklearn.ensemble import RandomForestClassifier\n",
        "import pandas as pd\n",
        "import joblib\n",
        "import os"
      ],
      "metadata": {
        "id": "QfyDI6TgEx1U"
      },
      "execution_count": 2,
      "outputs": []
    },
    {
      "cell_type": "code",
      "source": [
        "# Initialize Flask app\n",
        "app = Flask(__name__)\n",
        "CORS(app)  # Enable CORS for cross-origin requests\n",
        "app.config['SQLALCHEMY_DATABASE_URI'] = 'sqlite:///roomme_db.db'  # Use SQLite for Colab simplicity\n",
        "db = SQLAlchemy(app)\n"
      ],
      "metadata": {
        "id": "M4yrmfEyE24R"
      },
      "execution_count": 3,
      "outputs": []
    },
    {
      "cell_type": "code",
      "source": [
        "# Initialize Firebase (Check if credential file exists, else prompt to upload)\n",
        "if os.path.exists('/content/firebase_cred.json'):\n",
        "    cred = credentials.Certificate('/content/firebase_cred.json')\n",
        "    initialize_app(cred)\n",
        "else:\n",
        "    raise FileNotFoundError(\"Firebase credential file not found. Please upload firebase_cred.json to Colab.\")"
      ],
      "metadata": {
        "id": "0MluTdeTKc8S"
      },
      "execution_count": 5,
      "outputs": []
    },
    {
      "cell_type": "code",
      "source": [
        "# Database Models\n",
        "class User(db.Model):\n",
        "    id = db.Column(db.Integer, primary_key=True)\n",
        "    email = db.Column(db.String(100), unique=True, nullable=False)\n",
        "    location = db.Column(db.String(100))\n",
        "    age = db.Column(db.Integer)\n",
        "    gender = db.Column(db.String(50))\n",
        "    rent = db.Column(db.Float)\n",
        "    looking_for = db.Column(db.String(100))  # Room or Roommate\n",
        "    occupation = db.Column(db.String(100))\n",
        "    smoking_preference = db.Column(db.String(50))\n",
        "    cleanliness = db.Column(db.String(50))\n",
        "    sleeping_hours = db.Column(db.String(100))\n",
        "    guest_policy = db.Column(db.String(100))\n",
        "    pet_policy = db.Column(db.String(100))\n",
        "    preferences = db.Column(db.JSON)\n",
        "\n",
        "class Match(db.Model):\n",
        "    id = db.Column(db.Integer, primary_key=True)\n",
        "    user1_id = db.Column(db.Integer, db.ForeignKey('user.id'))\n",
        "    user2_id = db.Column(db.Integer, db.ForeignKey('user.id'))\n",
        "    success = db.Column(db.Boolean, default=False)"
      ],
      "metadata": {
        "id": "kuKPUOzMKfzo"
      },
      "execution_count": 6,
      "outputs": []
    },
    {
      "cell_type": "code",
      "source": [
        "# Seed Initial Data (Optional)\n",
        "def seed_data():\n",
        "    if User.query.count() == 0:\n",
        "        data = pd.read_csv('/content/mock_data.csv')\n",
        "        for _, row in data.iterrows():\n",
        "            user = User(\n",
        "                email=row['email'],\n",
        "                location=row['location'],\n",
        "                age=row['age'],\n",
        "                gender=row['gender'],\n",
        "                rent=row['rent'],\n",
        "                looking_for=row['looking_for'],\n",
        "                occupation=row['occupation'],\n",
        "                smoking_preference=row['smoking_preference'],\n",
        "                cleanliness=row['cleanliness'],\n",
        "                sleeping_hours=row['sleeping_hours'],\n",
        "                guest_policy=row['guest_policy'],\n",
        "                pet_policy=row['pet_policy'],\n",
        "                preferences={}\n",
        "            )\n",
        "            db.session.add(user)\n",
        "        db.session.commit()\n"
      ],
      "metadata": {
        "id": "EfPKtB4hKr6l"
      },
      "execution_count": 7,
      "outputs": []
    },
    {
      "cell_type": "code",
      "source": [
        "\n",
        "# Train Model (Initial Training with Mock Data)\n",
        "def train_model():\n",
        "    data = pd.read_csv('/content/mock_data.csv')  # Ensure mock_data.csv is uploaded to Colab\n",
        "    X = data[['age', 'rent']]\n",
        "    y = data['match_success']\n",
        "    model = RandomForestClassifier()\n",
        "    model.fit(X, y)\n",
        "    joblib.dump(model, '/content/match_model.pkl')"
      ],
      "metadata": {
        "id": "yV8RT2GIKv6C"
      },
      "execution_count": 8,
      "outputs": []
    },
    {
      "cell_type": "code",
      "source": [
        "if 'signup' in app.view_functions:\n",
        "    app.view_functions.pop('signup')\n",
        "\n",
        "@app.route('/signup', methods=['POST'])\n",
        "def signup():\n",
        "    data = request.json\n",
        "    email = data['email']\n",
        "    password = data['password']\n",
        "\n",
        "    try:\n",
        "        user = auth.create_user(email=email, password=password)\n",
        "        new_user = User(email=email)\n",
        "        db.session.add(new_user)\n",
        "        db.session.commit()\n",
        "        return jsonify({\"message\": \"User created\", \"uid\": user.uid}), 201\n",
        "    except Exception as e:\n",
        "        return jsonify({\"error\": str(e)}), 400"
      ],
      "metadata": {
        "id": "Okkkd-IeNcS2"
      },
      "execution_count": 9,
      "outputs": []
    },
    {
      "cell_type": "code",
      "source": [
        "if 'create_profile' in app.view_functions:\n",
        "    app.view_functions.pop('create_profile')\n",
        "\n",
        "@app.route('/profile', methods=['POST'])\n",
        "def create_profile():\n",
        "    data = request.json\n",
        "    user = User.query.filter_by(email=data['email']).first()\n",
        "    if not user:\n",
        "        return jsonify({\"error\": \"User not found\"}), 404\n",
        "\n",
        "    user.location = data['location']\n",
        "    user.age = data['age']\n",
        "    user.gender = data['gender']\n",
        "    user.rent = data['rent']\n",
        "    user.looking_for = data['looking_for']\n",
        "    user.occupation = data['occupation']\n",
        "    user.smoking_preference = data['smoking_preference']\n",
        "    user.cleanliness = data['cleanliness']\n",
        "    user.sleeping_hours = data['sleeping_hours']\n",
        "    user.guest_policy = data['guest_policy']\n",
        "    user.pet_policy = data['pet_policy']\n",
        "    user.preferences = data['preferences']\n",
        "\n",
        "    db.session.commit()\n",
        "    return jsonify({\"message\": \"Profile updated\"}), 200"
      ],
      "metadata": {
        "id": "Uo3ASK4VOG7i"
      },
      "execution_count": 10,
      "outputs": []
    },
    {
      "cell_type": "code",
      "source": [
        "if 'predict_match' in app.view_functions:\n",
        "    app.view_functions.pop('predict_match')\n",
        "\n",
        "@app.route('/predict_match', methods=['POST'])\n",
        "def predict_match():\n",
        "    data = request.json\n",
        "    model = joblib.load('/content/match_model.pkl')\n",
        "    X = pd.DataFrame([[data['age'], data['rent']]], columns=['age', 'rent'])\n",
        "    prediction = model.predict(X)\n",
        "\n",
        "    return jsonify({\"match_likelihood\": prediction[0]}), 200"
      ],
      "metadata": {
        "id": "LMhRtyhZOIzx"
      },
      "execution_count": 11,
      "outputs": []
    },
    {
      "cell_type": "code",
      "source": [
        "if 'start_chat' in app.view_functions:\n",
        "    app.view_functions.pop('start_chat')\n",
        "\n",
        "@app.route('/chat', methods=['POST'])\n",
        "def start_chat():\n",
        "    data = request.json\n",
        "    user1 = data['user1_id']\n",
        "    user2 = data['user2_id']\n",
        "    match = Match(user1_id=user1, user2_id=user2)\n",
        "    db.session.add(match)\n",
        "    db.session.commit()\n",
        "    return jsonify({\"message\": \"Chat started!\"}), 201"
      ],
      "metadata": {
        "id": "HXXGp_VvOL-3"
      },
      "execution_count": 12,
      "outputs": []
    },
    {
      "cell_type": "code",
      "source": [
        "import os\n",
        "print(os.path.exists('/content/mock_data.csv'))  # Should return True"
      ],
      "metadata": {
        "colab": {
          "base_uri": "https://localhost:8080/"
        },
        "id": "f7JYZeCFPiai",
        "outputId": "f717e1d9-2f2d-4b5b-80bd-30da3362f733"
      },
      "execution_count": 13,
      "outputs": [
        {
          "output_type": "stream",
          "name": "stdout",
          "text": [
            "True\n"
          ]
        }
      ]
    },
    {
      "cell_type": "code",
      "source": [
        "import pandas as pd\n",
        "\n",
        "data = pd.read_csv('/content/mock_data.csv')\n",
        "print(data.head())  # Show the first few rows\n",
        "print(data.columns)  # List all column names"
      ],
      "metadata": {
        "colab": {
          "base_uri": "https://localhost:8080/"
        },
        "id": "ee-3qAOUQgyQ",
        "outputId": "60f20d4d-418a-4abe-80da-4548af066ee9"
      },
      "execution_count": 14,
      "outputs": [
        {
          "output_type": "stream",
          "name": "stdout",
          "text": [
            "Empty DataFrame\n",
            "Columns: [email, location, age, gender, rent, looking_for, occupation, smoking_preference, cleanliness, sleeping_hours, guest_policy, pet_policy, match_success user1@example.com, New York, 25, Female, 1200, Roommate, Engineer, No, Clean, 10pm-6am, Occasionally, No pets, 1 user2@example.com, Los Angeles, 30, Male, 1500, Room, Designer, Yes, Moderate, 12am-8am, Frequently, Has pets, 0 user3@example.com, San Francisco, 28, Female.1, 1800, Roommate.1, Artist, No.1, Very Clean, 9pm-5am, Rarely, No pets.1, 1 user4@example.com, Chicago, 35, Male.1, 900, Room.1, Teacher, Yes.1, Clean.1, 11pm-7am, Never, Has pets.1, 0 user5@example.com, Austin, 22, Male.2, 800, Roommate.2, Student, No.2, Moderate.1, 1am-9am, Occasionally.1, No pets.2, 1 user6@example.com, Miami, 29, Female.2, 1400, Room.2, Doctor, No.3, Very Clean.1, 10pm-6am.1, Frequently.1, No pets.3, 1 user7@example.com, Seattle, 31, Other, 1300, Roommate.3, Engineer.1, Yes.2, Clean.2, 12am-8am.1, Rarely.1, Has pets.2, 0 user8@example.com, Denver, 27, Male.3, ...]\n",
            "Index: []\n",
            "\n",
            "[0 rows x 133 columns]\n",
            "Index(['email', 'location', 'age', 'gender', 'rent', 'looking_for',\n",
            "       'occupation', 'smoking_preference', 'cleanliness', 'sleeping_hours',\n",
            "       ...\n",
            "       'Male.4', '1100', 'Room.4', 'Developer', 'Yes.3', 'Very Clean.2',\n",
            "       '12am-8am.2', 'Frequently.2', 'Has pets.3', '0'],\n",
            "      dtype='object', length=133)\n"
          ]
        }
      ]
    },
    {
      "cell_type": "code",
      "source": [
        "def seed_data():\n",
        "    mock_users = [\n",
        "        {'email': 'user1@example.com', 'location': 'New York', 'age': 25, 'gender': 'Female', 'rent': 1200,\n",
        "         'looking_for': 'Roommate', 'occupation': 'Engineer', 'smoking_preference': 'No',\n",
        "         'cleanliness': 'Clean', 'sleeping_hours': '10pm-6am', 'guest_policy': 'Occasionally',\n",
        "         'pet_policy': 'No pets', 'preferences': {}},\n",
        "\n",
        "        {'email': 'user2@example.com', 'location': 'Los Angeles', 'age': 30, 'gender': 'Male', 'rent': 1500,\n",
        "         'looking_for': 'Room', 'occupation': 'Designer', 'smoking_preference': 'Yes',\n",
        "         'cleanliness': 'Moderate', 'sleeping_hours': '12am-8am', 'guest_policy': 'Frequently',\n",
        "         'pet_policy': 'Has pets', 'preferences': {}},\n",
        "\n",
        "        {'email': 'user3@example.com', 'location': 'Chicago', 'age': 28, 'gender': 'Non-binary', 'rent': 1000,\n",
        "         'looking_for': 'Roommate', 'occupation': 'Teacher', 'smoking_preference': 'No',\n",
        "         'cleanliness': 'Clean', 'sleeping_hours': '9pm-5am', 'guest_policy': 'Rarely',\n",
        "         'pet_policy': 'No pets', 'preferences': {}}\n",
        "    ]\n",
        "\n",
        "    for user_data in mock_users:\n",
        "        existing_user = User.query.filter_by(email=user_data['email']).first()\n",
        "        if not existing_user:\n",
        "            new_user = User(**user_data)\n",
        "            db.session.add(new_user)\n",
        "\n",
        "    db.session.commit()\n",
        "    print(\"Database seeded successfully.\")"
      ],
      "metadata": {
        "id": "tCprY3H7R0Fr"
      },
      "execution_count": 15,
      "outputs": []
    },
    {
      "cell_type": "code",
      "source": [
        "def train_model():\n",
        "    data = pd.read_csv('/content/mock_data.csv')\n",
        "\n",
        "    # Handle missing 'match_success' column\n",
        "    if 'match_success' not in data.columns:\n",
        "        print(\"Column 'match_success' not found. Generating random values.\")\n",
        "        import numpy as np\n",
        "        data['match_success'] = np.random.randint(0, 2, size=len(data))  # Random 0 or 1\n",
        "\n",
        "    X = data[['age', 'rent']]\n",
        "    y = data['match_success']\n",
        "\n",
        "    model = RandomForestClassifier()\n",
        "    model.fit(X, y)\n",
        "    joblib.dump(model, '/content/match_model.pkl')\n",
        "    print(\"Model trained successfully.\")"
      ],
      "metadata": {
        "id": "s1KwWPTQTq7x"
      },
      "execution_count": 16,
      "outputs": []
    },
    {
      "source": [
        "def train_model():\n",
        "    data = pd.read_csv('/content/mock_data.csv')\n",
        "\n",
        "    # Handle missing 'match_success' column\n",
        "    if 'match_success' not in data.columns:\n",
        "        print(\"Column 'match_success' not found. Generating random values.\")\n",
        "        import numpy as np\n",
        "        data['match_success'] = np.random.randint(0, 2, size=len(data))  # Random 0 or 1\n",
        "\n",
        "    # Check if DataFrame is empty after potentially adding 'match_success'\n",
        "    if data.empty:\n",
        "        print(\"DataFrame is empty. Cannot train the model.\")\n",
        "        return  # Exit the function early to avoid the error\n",
        "\n",
        "    X = data[['age', 'rent']]\n",
        "    y = data['match_success']\n",
        "\n",
        "    model = RandomForestClassifier()\n",
        "    model.fit(X, y)\n",
        "    joblib.dump(model, '/content/match_model.pkl')\n",
        "    print(\"Model trained successfully.\")"
      ],
      "cell_type": "code",
      "metadata": {
        "id": "gKpr_PfRYYuO"
      },
      "execution_count": 18,
      "outputs": []
    },
    {
      "cell_type": "code",
      "source": [
        "\n",
        "if 'feedback' in app.view_functions:\n",
        "    app.view_functions.pop('feedback')\n",
        "\n",
        "@app.route('/feedback', methods=['POST'])\n",
        "def feedback():\n",
        "    data = request.json\n",
        "    match = Match.query.get(data['match_id'])\n",
        "    match.success = data['success']\n",
        "    db.session.commit()\n",
        "    return jsonify({\"message\": \"Feedback received\"}), 200\n",
        "\n",
        "if __name__ == '__main__':\n",
        "    with app.app_context():\n",
        "        db.create_all()  # Create tables in SQLite\n",
        "        seed_data()  # Seed initial data from CSV\n",
        "    if not os.path.exists('/content/match_model.pkl'):\n",
        "        train_model()\n",
        "    app.run(host='0.0.0.0', port=5000)"
      ],
      "metadata": {
        "colab": {
          "base_uri": "https://localhost:8080/"
        },
        "id": "eMz6h7uXTtZ2",
        "outputId": "86f2b122-e50d-4e6f-d016-233aab284dbd"
      },
      "execution_count": 23,
      "outputs": [
        {
          "output_type": "stream",
          "name": "stdout",
          "text": [
            "Database seeded successfully.\n",
            "Column 'match_success' not found. Generating random values.\n",
            "DataFrame is empty. Cannot train the model.\n",
            " * Serving Flask app '__main__'\n",
            " * Debug mode: off\n"
          ]
        },
        {
          "output_type": "stream",
          "name": "stderr",
          "text": [
            "INFO:werkzeug:\u001b[31m\u001b[1mWARNING: This is a development server. Do not use it in a production deployment. Use a production WSGI server instead.\u001b[0m\n",
            " * Running on all addresses (0.0.0.0)\n",
            " * Running on http://127.0.0.1:5000\n",
            " * Running on http://172.28.0.12:5000\n",
            "INFO:werkzeug:\u001b[33mPress CTRL+C to quit\u001b[0m\n"
          ]
        }
      ]
    }
  ]
}